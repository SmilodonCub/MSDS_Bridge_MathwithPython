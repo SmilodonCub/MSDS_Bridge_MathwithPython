{
 "cells": [
  {
   "cell_type": "markdown",
   "metadata": {},
   "source": [
    "# NumpPy Tuotrial\n",
    "### Introduction to NumPy Arrays \n",
    "### following along from chapter 4 of 'Linear Algebra in Python' by Jason Brownlee"
   ]
  },
  {
   "cell_type": "markdown",
   "metadata": {},
   "source": [
    "the main data structure in NumPy is the N-dimensional array, or ndarray. \n",
    "let's start by creating an array in a very simple way, by passing a list to the array function:"
   ]
  },
  {
   "cell_type": "code",
   "execution_count": 8,
   "metadata": {},
   "outputs": [
    {
     "name": "stdout",
     "output_type": "stream",
     "text": [
      "[1. 2. 3.]\n",
      "(3,)\n",
      "float64\n"
     ]
    }
   ],
   "source": [
    "from numpy import array\n",
    "#make a list\n",
    "l = [ 1.0, 2.0, 3.0 ]\n",
    "#use the array funtion to create an 'n' dimensional array object\n",
    "a = array( l )\n",
    "print( a )\n",
    "print( a.shape )\n",
    "print( a.dtype )"
   ]
  },
  {
   "cell_type": "markdown",
   "metadata": {},
   "source": [
    "there are other functions to create fixed size arrays:"
   ]
  },
  {
   "cell_type": "code",
   "execution_count": 9,
   "metadata": {},
   "outputs": [
    {
     "name": "stdout",
     "output_type": "stream",
     "text": [
      "[[6.92674165e-310 6.92674692e-310 6.92672910e-310]\n",
      " [6.92674474e-310 6.92672910e-310 6.37344683e-322]\n",
      " [4.63893046e-310 4.63893046e-310 6.92674587e-310]]\n"
     ]
    }
   ],
   "source": [
    "#create and empty array\n",
    "from numpy import empty\n",
    "a = empty( [ 3,3 ] )\n",
    "print( a )"
   ]
  },
  {
   "cell_type": "code",
   "execution_count": 10,
   "metadata": {},
   "outputs": [
    {
     "name": "stdout",
     "output_type": "stream",
     "text": [
      "[[0. 0. 0. 0. 0.]\n",
      " [0. 0. 0. 0. 0.]\n",
      " [0. 0. 0. 0. 0.]]\n"
     ]
    }
   ],
   "source": [
    "#create a zero array\n",
    "from numpy import zeros\n",
    "a = zeros( [ 3,5 ] )\n",
    "print( a )"
   ]
  },
  {
   "cell_type": "code",
   "execution_count": 11,
   "metadata": {},
   "outputs": [
    {
     "name": "stdout",
     "output_type": "stream",
     "text": [
      "[1. 1. 1. 1. 1.]\n"
     ]
    }
   ],
   "source": [
    "#create an array of ones\n",
    "from numpy import ones\n",
    "a = ones( [ 5 ] )\n",
    "print( a )"
   ]
  },
  {
   "cell_type": "markdown",
   "metadata": {},
   "source": [
    "combining arrays: creating new arrays from existing ones with hstack & vstack"
   ]
  },
  {
   "cell_type": "code",
   "execution_count": 12,
   "metadata": {},
   "outputs": [
    {
     "name": "stdout",
     "output_type": "stream",
     "text": [
      "[1 2 3]\n",
      "[4 5 6]\n",
      "[[1 2 3]\n",
      " [4 5 6]]\n",
      "(2, 3)\n"
     ]
    }
   ],
   "source": [
    "from numpy import vstack\n",
    "#create an array\n",
    "a1 = array( [ 1,2,3 ] )\n",
    "print( a1 )\n",
    "#create a second array\n",
    "a2 = array( [ 4,5,6 ] )\n",
    "print( a2 )\n",
    "#vertical stack\n",
    "a3 = vstack( ( a1,a2 ) )\n",
    "print( a3 )\n",
    "print( a3.shape )"
   ]
  },
  {
   "cell_type": "code",
   "execution_count": 13,
   "metadata": {},
   "outputs": [
    {
     "name": "stdout",
     "output_type": "stream",
     "text": [
      "[1 2 3 4 5 6]\n",
      "(6,)\n"
     ]
    }
   ],
   "source": [
    "from numpy import hstack\n",
    "a4 = hstack( ( a1,a2 ) )\n",
    "print( a4 )\n",
    "print( a4.shape )"
   ]
  },
  {
   "cell_type": "markdown",
   "metadata": {},
   "source": [
    "some other methods for creating arrays:"
   ]
  },
  {
   "cell_type": "code",
   "execution_count": 20,
   "metadata": {},
   "outputs": [
    {
     "name": "stdout",
     "output_type": "stream",
     "text": [
      "[ 1.   1.5  2.   2.5  3.   3.5  4.   4.5  5.   5.5  6.   6.5  7.   7.5\n",
      "  8.   8.5  9.   9.5 10. ]\n",
      "[ 0  1  2  3  4  5  6  7  8  9 10 11 12]\n",
      "[[[0 0 0]\n",
      "  [1 1 1]\n",
      "  [2 2 2]]\n",
      "\n",
      " [[0 1 2]\n",
      "  [0 1 2]\n",
      "  [0 1 2]]]\n"
     ]
    }
   ],
   "source": [
    "import numpy as np\n",
    "#linspace\n",
    "a5 = np.linspace( 1, 10, 19 ) \n",
    "print( a5 )\n",
    "\n",
    "#arange\n",
    "a6 = np.arange( 13 )\n",
    "print( a6 )\n",
    "\n",
    "#indeces\n",
    "a7 = np.indices( ( 3,3 ) )\n",
    "print( a7 )"
   ]
  },
  {
   "cell_type": "markdown",
   "metadata": {},
   "source": [
    "another method for combining arrays:"
   ]
  },
  {
   "cell_type": "code",
   "execution_count": 23,
   "metadata": {},
   "outputs": [
    {
     "name": "stdout",
     "output_type": "stream",
     "text": [
      "[1 2 3 4 5 6]\n"
     ]
    }
   ],
   "source": [
    "#concatenate\n",
    "a8 = np.concatenate((a1, a2), axis=0)\n",
    "print( a8 )"
   ]
  }
 ],
 "metadata": {
  "kernelspec": {
   "display_name": "Python 3",
   "language": "python",
   "name": "python3"
  },
  "language_info": {
   "codemirror_mode": {
    "name": "ipython",
    "version": 3
   },
   "file_extension": ".py",
   "mimetype": "text/x-python",
   "name": "python",
   "nbconvert_exporter": "python",
   "pygments_lexer": "ipython3",
   "version": "3.7.3"
  }
 },
 "nbformat": 4,
 "nbformat_minor": 2
}
