{
  "nbformat": 4,
  "nbformat_minor": 0,
  "metadata": {
    "colab": {
      "name": "Math with Python Week 1 Homework",
      "provenance": [],
      "collapsed_sections": []
    },
    "kernelspec": {
      "name": "python3",
      "display_name": "Python 3"
    }
  },
  "cells": [
    {
      "cell_type": "markdown",
      "metadata": {
        "id": "MuR1yvz9_EVJ",
        "colab_type": "text"
      },
      "source": [
        "# Math with Python Week 1 Homework\n",
        "### Bonnie Cooper\n",
        "### bcooper@sunyopt.edu"
      ]
    },
    {
      "cell_type": "markdown",
      "metadata": {
        "id": "1DHGFJMb_R_D",
        "colab_type": "text"
      },
      "source": [
        "#### Chapter1. Programming Challenge 1 page 22, Even-Odd Vending Machine\n",
        "  \n",
        "Try writing an “even-odd vending machine,” which will take a number as\n",
        "input and do two things:\n",
        "1. Print whether the number is even or odd.\n",
        "2. Display the number followed by the next 9 even or odd numbers.\n",
        "If the input is 2, the program should print even and then print 2, 4, 6,\n",
        "8, 10, 12, 14, 16, 18, 20. Similarly, if the input is 1, the program should\n",
        "print odd and then print 1, 3, 5, 7, 9, 11, 13, 15, 17, 19. "
      ]
    },
    {
      "cell_type": "code",
      "metadata": {
        "id": "7zrNcw4k_c8N",
        "colab_type": "code",
        "outputId": "46a012af-cc84-450b-a793-07a21bdf461c",
        "colab": {
          "base_uri": "https://localhost:8080/",
          "height": 34
        }
      },
      "source": [
        "# a function called evenOrOdd\n",
        "def evenOrOdd( num ):\n",
        "  if num % 2 == 0: #if the number is even\n",
        "    result = 'even'\n",
        "  elif num % 2 == 1: #if the number is odd\n",
        "    result = 'odd' \n",
        "  #create a list of 10 even numbers from zero to 18\n",
        "  numSeries = list( range( 0, 20, 2 ) )\n",
        "  #add 'num' to each member of the list\n",
        "  result2 = [ x + num for x in numSeries ]\n",
        "  return result, result2\n",
        "\n",
        "# test evenOrOdd\n",
        "#evenOrOdd( 5 )\n",
        "#evenOrOdd( 0 )\n",
        "evenOrOdd( 2024 )"
      ],
      "execution_count": 0,
      "outputs": [
        {
          "output_type": "execute_result",
          "data": {
            "text/plain": [
              "('even', [2024, 2026, 2028, 2030, 2032, 2034, 2036, 2038, 2040, 2042])"
            ]
          },
          "metadata": {
            "tags": []
          },
          "execution_count": 21
        }
      ]
    },
    {
      "cell_type": "markdown",
      "metadata": {
        "id": "CbwjPwAL_dap",
        "colab_type": "text"
      },
      "source": [
        "#### Chapter 2. Programming Challenge 2 page 55, Exploring a Quadratic Function Visually  \n",
        "\n",
        "Your programming challenge is to enhance this quadratic **equation** program to create\n",
        "a graph of the function. Try using at least 10 values for x instead of the 6\n",
        "above. Calculate the corresponding y values using the function and then\n",
        "create a graph using these two sets of values.\n",
        "Once you’ve created the graph, spend some time analyzing how the\n",
        "value of y varies with respect to x. Is the variation linear or nonlinear?"
      ]
    },
    {
      "cell_type": "code",
      "metadata": {
        "id": "7_LvwBoL_mmH",
        "colab_type": "code",
        "outputId": "8fefdbac-d842-4fb6-97ce-babef48e6159",
        "colab": {
          "base_uri": "https://localhost:8080/",
          "height": 295
        }
      },
      "source": [
        "# Assume values of x\n",
        "x_values = list( range( -100, 110, 10 ) )\n",
        "y_values = [ ]\n",
        "for x in x_values:\n",
        " # Calculate the value of the quadratic function & append to the list y_values\n",
        " y_values.append( x**2 + 2*x + 1 )\n",
        " #y_values.append( y )\n",
        "#print( x_values ) \n",
        "#print( y_values )\n",
        "\n",
        "import matplotlib.pyplot as plt\n",
        "plt.plot(x_values, y_values, marker='o')\n",
        "plt.ylabel( 'y values' )\n",
        "plt.xlabel( 'x values' )\n",
        "plt.title( 'Exploring a Quadratic Function Visually' )\n",
        "s = 'The value of y has a non-linear\\nrelationship with x and traces\\n a convex curve.'\n",
        "plt.text(115, 8000, s, fontsize=12)\n",
        "plt.show( )"
      ],
      "execution_count": 0,
      "outputs": [
        {
          "output_type": "display_data",
          "data": {
            "image/png": "[encoded data removed]",
            "text/plain": [
              "<Figure size 432x288 with 1 Axes>"
            ]
          },
          "metadata": {
            "tags": []
          }
        }
      ]
    },
    {
      "cell_type": "markdown",
      "metadata": {
        "colab_type": "text",
        "id": "jAOM9f4c5Gvc"
      },
      "source": [
        ""
      ]
    },
    {
      "cell_type": "markdown",
      "metadata": {
        "id": "QYeInubw_nCq",
        "colab_type": "text"
      },
      "source": [
        "#### Chapter 3. Programming Challenge 2 page 89, Statistics Calculator  \n",
        "\n",
        "Implement a statistics calculator that takes a list of numbers in the file\n",
        "mydata.txt and then calculates and prints their mean, median, mode,\n",
        "variance, and standard deviation using the functions we wrote earlier in\n",
        "this chapter.\n",
        "\n",
        "\n"
      ]
    },
    {
      "cell_type": "code",
      "metadata": {
        "id": "O-ntMACm_2kf",
        "colab_type": "code",
        "outputId": "5726307a-3f73-48d2-9eb7-d2adfde21fd2",
        "colab": {
          "base_uri": "https://localhost:8080/",
          "height": 119
        }
      },
      "source": [
        "from collections import Counter\n",
        "\n",
        "#the directions are vague, I assume this function is to take a list of values as an argument(as opposed to a string that specifies a .txt file)\n",
        "myData = [ 100, 60, 70, 900,100, 200, 500, 500, 503, 600, 1000, 1200 ]\n",
        "#the functions from earlier in the chapter:\n",
        "\n",
        "#MEAN\n",
        "def calculate_mean(numbers):\n",
        " s = sum(numbers)\n",
        " N = len(numbers)\n",
        " mean = s/N\n",
        " return mean\n",
        "\n",
        "#MEDIAN\n",
        "def calculate_median(numbers):\n",
        " N = len(numbers)\n",
        " numbers.sort()\n",
        " # Find the median\n",
        " if N % 2 == 0:\n",
        " # if N is even\n",
        "  m1 = N/2\n",
        "  m2 = (N/2) + 1\n",
        " # Convert to integer, match position\n",
        "  m1 = int(m1) - 1\n",
        "  m2 = int(m2) - 1\n",
        "  median = (numbers[m1] + numbers[m2])/2\n",
        " else:\n",
        "  m = (N+1)/2\n",
        " # Convert to integer, match position\n",
        "  m = int(m) - 1\n",
        "  median = numbers[m]\n",
        " return median\n",
        "\n",
        "#MODE\n",
        "def calculate_mode(numbers):\n",
        " c = Counter(numbers)\n",
        " numbers_freq = c.most_common()\n",
        " max_count = numbers_freq[0][1]\n",
        " modes = []\n",
        " for num in numbers_freq:\n",
        "  if num[1] == max_count:\n",
        "    modes.append(num[0])\n",
        " return modes\n",
        "\n",
        "#VARIANCE\n",
        "#1st have to find the differences\n",
        "def find_differences(numbers):\n",
        " # Find the mean\n",
        " mean = calculate_mean(numbers)\n",
        " # Find the differences from the mean\n",
        " diff = []\n",
        " for num in numbers:\n",
        "  diff.append(num-mean)\n",
        " return diff\n",
        "\n",
        "def calculate_variance(numbers):\n",
        " # Find the list of differences\n",
        " diff = find_differences(numbers)\n",
        " # Find the squared differences\n",
        " squared_diff = []\n",
        " for d in diff:\n",
        "  squared_diff.append(d**2)\n",
        " # Find the variance\n",
        " sum_squared_diff = sum(squared_diff)\n",
        " variance = sum_squared_diff/len(numbers)\n",
        " return variance \n",
        "\n",
        "#STANDARD DEVIATION\n",
        "def calculate_std( numbers ):\n",
        "  # Find the variance of numbers\n",
        "  var = calculate_variance( numbers )\n",
        "  std = var**0.5\n",
        "  return std\n",
        "\n",
        "#checking to make sure I get the same results as in the text before I build the \n",
        "#stats calculator function\n",
        "#calculate_mean( myData)\n",
        "#calculate_median( myData )  \n",
        "#calculate_mode( myData )\n",
        "#calculate_variance( myData )\n",
        "#calculate_std( myData )\n",
        "\n",
        "def statsCalculator( dataList ):\n",
        "  dataMean = calculate_mean( dataList )\n",
        "  dataMedian = calculate_median( dataList )  \n",
        "  dataMode = calculate_mode( dataList )\n",
        "  dataVar = calculate_variance( dataList )\n",
        "  dataSTD = calculate_std( dataList )\n",
        "  return dataMean, dataMedian, dataMode, dataVar, dataSTD \n",
        "\n",
        "dataMean, dataMedian, dataMode, dataVar, dataSTD = statsCalculator( myData )\n",
        "print( ' Mean: {0}\\n Median: {1}\\n Mode: {2}\\n Variance: {3}\\n Standard Deviation: {4}\\n'.format( dataMean, dataMedian, dataMode, dataVar, dataSTD ) )\n"
      ],
      "execution_count": 0,
      "outputs": [
        {
          "output_type": "stream",
          "text": [
            " Mean: 477.75\n",
            " Median: 500.0\n",
            " Mode: [100, 500]\n",
            " Variance: 141047.35416666666\n",
            " Standard Deviation: 375.5627166887931\n",
            "\n"
          ],
          "name": "stdout"
        }
      ]
    },
    {
      "cell_type": "markdown",
      "metadata": {
        "id": "vDa6Loyj_26C",
        "colab_type": "text"
      },
      "source": [
        "#### Chapter 4. Programming Challenge 4 page 117, Solving Single-Variable Inequalities\n",
        "\n",
        " For this challenge, create a function, isolve(), that will take\n",
        "any inequality, solve it, and then return the solution. \n",
        "Your challenge is (1) to create a function, isolve(), that\n",
        "will take any inequality and (2) to choose one of the appropriate functions\n",
        "discussed in this section to solve it and return the solution. \n",
        "When you run your program, it should ask the user to input an inequality expression and print back the solution."
      ]
    },
    {
      "cell_type": "code",
      "metadata": {
        "id": "lQBi2gz4AI-0",
        "colab_type": "code",
        "outputId": "131a3dbe-e085-4457-b5af-5e3ba08c306c",
        "colab": {
          "base_uri": "https://localhost:8080/",
          "height": 68
        }
      },
      "source": [
        "from sympy import Poly, Symbol, solve_poly_inequality, \\\n",
        "solve_rational_inequalities, solve, solve_univariate_inequality, sin, sympify\n",
        "\n",
        "#define isolve\n",
        "def isolve( testInequality ):\n",
        "  x = Symbol( 'x' )\n",
        "  inequalityOBJ = sympify( testInequality )\n",
        "  lhs = inequalityOBJ.lhs\n",
        "  if lhs.is_polynomial( ) == 1:\n",
        "    print( 'yep, is polynomial' )\n",
        "    p = Poly( lhs, x )\n",
        "    rel = inequalityOBJ.rel_op\n",
        "    solution = solve_poly_inequality( p, rel )\n",
        "  elif lhs.is_rational_function( ) == 1:\n",
        "    print( 'totally rational' )\n",
        "    numer, denom = lhs.as_numer_denom( )\n",
        "    p1 = Poly( numer )\n",
        "    p2 = Poly( denom )\n",
        "    rel = inequalityOBJ.rel_op\n",
        "    solution =  solve_rational_inequalities( [ [ ( ( p1, p2 ), rel ) ] ] )\n",
        "  else:\n",
        "    print( 'something else' )\n",
        "    try:\n",
        "      solution = solve_univariate_inequality( inequalityOBJ, x, relational=False )\n",
        "    except:\n",
        "      print( 'unable to solve' )\n",
        "      pass\n",
        "  return solution\n",
        "  \n",
        "\n",
        "#get user input\n",
        "anyInequality = input( 'Enter a univariate inequality using the variable ''x'' that you would like solved: ')\n",
        "#callisolve\n",
        "isolve( anyInequality )"
      ],
      "execution_count": 0,
      "outputs": [
        {
          "output_type": "stream",
          "text": [
            "Enter a univariate inequality using the variable x that you would like solved: (2+x)/(3+x) >5\n",
            "totally rational\n"
          ],
          "name": "stdout"
        },
        {
          "output_type": "execute_result",
          "data": {
            "text/plain": [
              "Union(Interval.open(-oo, -3), Interval.open(-2, oo))"
            ]
          },
          "metadata": {
            "tags": []
          },
          "execution_count": 83
        }
      ]
    },
    {
      "cell_type": "markdown",
      "metadata": {
        "id": "4dv9ouDhAJbJ",
        "colab_type": "text"
      },
      "source": [
        "#### Chapter 5. Programming Challenge 2 page 143, Law of Large Numbers\n",
        "\n",
        "Thus, for a six-sided die, the expected value of a die roll can be calculated\n",
        "like this:\n",
        "> e = 1*(1/6) + 2*(1/6) + 3*(1/6) + 4*(1/6) + 5*(1/6) + 6*(1/6)\n",
        "\n",
        "According to the law of large numbers, the average value of results over\n",
        "multiple trials approaches the expected value as the number of trials\n",
        "increases. Your challenge in this task is to verify this law when rolling a\n",
        "six-sided die for the following number of trials: 100, 1000, 10000, 100000,\n",
        "and 500000."
      ]
    },
    {
      "cell_type": "code",
      "metadata": {
        "id": "JWMpmIaGAQiv",
        "colab_type": "code",
        "outputId": "c7ca9c54-a324-4053-9972-44359eb2b5ae",
        "colab": {
          "base_uri": "https://localhost:8080/",
          "height": 34
        }
      },
      "source": [
        "from collections import Counter\n",
        "import numpy as np\n",
        "\n",
        "trialAverage = [ ]\n",
        "numTrials = [ 100, 1000, 10000, 100000, 500000 ]\n",
        "for trial in numTrials:\n",
        "  newArray = np.random.randint(1, 7, size=(1, trial))\n",
        "  #print( newArray.size )\n",
        "  uniqueValues, occurCount = np.unique(newArray, return_counts=True)\n",
        "  proportions = [a*b for a,b in zip(occurCount/trial,uniqueValues)]\n",
        "  trialAverage.append( sum( proportions ) )\n",
        "trialAverage  \n",
        "\n"
      ],
      "execution_count": 0,
      "outputs": [
        {
          "output_type": "execute_result",
          "data": {
            "text/plain": [
              "[3.58, 3.5610000000000004, 3.5077, 3.50271, 3.501168]"
            ]
          },
          "metadata": {
            "tags": []
          },
          "execution_count": 108
        }
      ]
    },
    {
      "cell_type": "code",
      "metadata": {
        "id": "zg9LuZ7t6Fb5",
        "colab_type": "code",
        "outputId": "80ca0c1e-1b53-4b17-c3ec-57e5d134a2e8",
        "colab": {
          "base_uri": "https://localhost:8080/",
          "height": 299
        }
      },
      "source": [
        "import matplotlib.pyplot as plt\n",
        "plt.plot(numTrials, trialAverage, marker='o')\n",
        "plt.hlines( 3.5, 0, 500000, colors='r', linestyles='dashed' )\n",
        "plt.ylabel( 'Trial Average' )\n",
        "plt.xlabel( 'Number of Trials' )\n",
        "plt.title( 'Verifying the Law of Large Number' )\n",
        "plt.ylim( 3.475, 3.6 )\n",
        "plt.xscale('log')\n",
        "s = 'The trial average approaches the\\nexpected value (red dashed line)\\nas the number of trials increases.'\n",
        "plt.text(1000000, 3.57, s, fontsize=12)\n",
        "plt.text( 100, 3.5, 'Expected Value', fontsize=12, color = 'r' )\n",
        "plt.show( )"
      ],
      "execution_count": 0,
      "outputs": [
        {
          "output_type": "display_data",
          "data": {
            "image/png": "[encoded data removed]",
            "text/plain": [
              "<Figure size 432x288 with 1 Axes>"
            ]
          },
          "metadata": {
            "tags": []
          }
        }
      ]
    },
    {
      "cell_type": "markdown",
      "metadata": {
        "id": "eUsfJrQEAQ3A",
        "colab_type": "text"
      },
      "source": [
        "#### Chapter 7. Programming Challenge 2 page 205, Implement the Gradient Descent  \n",
        "\n",
        "Your challenge is to implement a generic program using the gradient\n",
        "descent algorithm to find the minimum value of a single-variable function\n",
        "specified as input by the user. The program should also create a graph\n",
        "of the function and show all the intermediate values it found before finding the minimum. "
      ]
    },
    {
      "cell_type": "code",
      "metadata": {
        "colab_type": "code",
        "id": "4scgVXWyJTQv",
        "colab": {
          "base_uri": "https://localhost:8080/",
          "height": 102
        },
        "outputId": "acf727b4-2663-481c-ee88-7e84e6a73e7f"
      },
      "source": [
        "'''\n",
        "Generic gradient descent\n",
        "'''\n",
        "import math\n",
        "from sympy import Derivative, Symbol, sin, sympify\n",
        "\n",
        "#all we have to do is flip the sign convention on the cost fxn\n",
        "def grad_descent(x0, f1x, x):\n",
        " epsilon = 1e-6\n",
        " step_size = 1e-4\n",
        " x_old = x0\n",
        " #change sign from + to -\n",
        " x_new = x_old - step_size*f1x.subs({x:x_old}).evalf()\n",
        " x_steps = [x_old]\n",
        " while abs(x_old - x_new) > epsilon:\n",
        "  x_old = x_new\n",
        "  #change sign from + to -\n",
        "  x_new = x_old - step_size*f1x.subs({x:x_old}).evalf()\n",
        "  x_steps.append( x_new )\n",
        " return x_new, x_steps\n",
        "\n",
        "if __name__ == '__main__':\n",
        " f = input('Enter a function in one variable: ')\n",
        " var = input('Enter the variable to differentiate with respect to: ')\n",
        " var0 = float(input('Enter the initial value of the variable: '))\n",
        " try:\n",
        "  f = sympify(f)\n",
        " except SympifyError:\n",
        "  print('Invalid function entered')\n",
        " else:\n",
        "  var = Symbol(var)\n",
        "  d = Derivative(f, var).doit()\n",
        "  var_min, var_steps = grad_descent(var0, d, var)\n",
        "  print('{0}: {1}'.format(var.name, var_min))\n",
        "  print('Maximum value: {0}'.format(f.subs({var:var_min})))"
      ],
      "execution_count": 7,
      "outputs": [
        {
          "output_type": "stream",
          "text": [
            "Enter a function in one variable:  x**5 - 30*x**3 + 50*x\n",
            "Enter the variable to differentiate with respect to: x\n",
            "Enter the initial value of the variable: 0.5\n",
            "x: -0.757451948244346\n",
            "Maximum value: -25.0846622548143\n"
          ],
          "name": "stdout"
        }
      ]
    },
    {
      "cell_type": "code",
      "metadata": {
        "id": "RRJHAZL3cONF",
        "colab_type": "code",
        "colab": {
          "base_uri": "https://localhost:8080/",
          "height": 295
        },
        "outputId": "f1b74e38-a275-4963-9c66-6fabfd0c7c40"
      },
      "source": [
        "#generate some data so we can plot our results:\n",
        "#y values for our gradient descent results:\n",
        "y_steps = [ x**5 - 30*x**3 + 50*x for x in var_steps ]\n",
        "#x values to plot the function\n",
        "exes = [ x/100 for x in range( -1000, 1000, 1 ) ]\n",
        "#y values to plot our funtion\n",
        "whys = [ x**5 - 30*x**3 + 50*x for x in exes ]\n",
        "\n",
        "#now to plot!\n",
        "import matplotlib.pyplot as plt\n",
        "plt.plot( exes, whys )\n",
        "plt.plot( var_steps, y_steps, marker='o')\n",
        "plt.ylabel( 'f(x)' )\n",
        "plt.xlabel( 'x' )\n",
        "plt.xlim( -6, 6 )\n",
        "plt.ylim( -800, 800 )\n",
        "plt.title( 'Implementing Gradient Descent' )\n",
        "s = 'Initital Value:' + str( var0 )\n",
        "plt.text(var0, 150, s, fontsize=12)\n",
        "plt.show( )"
      ],
      "execution_count": 22,
      "outputs": [
        {
          "output_type": "display_data",
          "data": {
            "image/png": "[encoded data removed]",
            "text/plain": [
              "<Figure size 432x288 with 1 Axes>"
            ]
          },
          "metadata": {
            "tags": []
          }
        }
      ]
    }
  ]
}